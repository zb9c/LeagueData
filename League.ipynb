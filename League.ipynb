{
  "nbformat": 4,
  "nbformat_minor": 0,
  "metadata": {
    "colab": {
      "name": "League",
      "version": "0.3.2",
      "views": {},
      "default_view": {},
      "provenance": []
    }
  },
  "cells": [
    {
      "metadata": {
        "id": "j_g_Vxsy_Q9J",
        "colab_type": "code",
        "colab": {
          "autoexec": {
            "startup": false,
            "wait_interval": 0
          },
          "output_extras": [
            {
              "item_id": 1
            }
          ],
          "base_uri": "https://localhost:8080/",
          "height": 34
        },
        "outputId": "7b5bdab2-ed26-4450-eb77-32a426c5ef58",
        "executionInfo": {
          "status": "ok",
          "timestamp": 1509985205178,
          "user_tz": 360,
          "elapsed": 854,
          "user": {
            "displayName": "Zach Bush",
            "photoUrl": "//lh4.googleusercontent.com/-T331DJ613pQ/AAAAAAAAAAI/AAAAAAAACgo/ayjFye-cEtA/s50-c-k-no/photo.jpg",
            "userId": "106279172720746439343"
          }
        }
      },
      "source": [
        "!pip install xlsxwriter\n",
        "import json\n",
        "import xlsxwriter\n",
        "import io\n",
        "import requests\n",
        "\n",
        "from google.colab import auth\n",
        "#To authenticate with google colab\n",
        "auth.authenticate_user()\n",
        "\n",
        "#create service to use google drive\n",
        "from googleapiclient.discovery import build\n",
        "drive_service = build('drive', 'v3')\n",
        "\n",
        "#For media upload\n",
        "from googleapiclient.http import MediaFileUpload\n",
        "\n",
        "#For unicode shit\n",
        "try:\n",
        "    to_unicode = unicode\n",
        "except NameError:\n",
        "    to_unicode = str"
      ],
      "cell_type": "code",
      "execution_count": 21,
      "outputs": [
        {
          "output_type": "stream",
          "text": [
            "Requirement already satisfied: xlsxwriter in /usr/local/lib/python2.7/dist-packages\r\n"
          ],
          "name": "stdout"
        }
      ]
    },
    {
      "metadata": {
        "id": "HjIRmyV4_mxc",
        "colab_type": "code",
        "colab": {
          "autoexec": {
            "startup": false,
            "wait_interval": 0
          }
        }
      },
      "source": [
        "def downloadGame(number):\n",
        "    url = 'https://s3-us-west-1.amazonaws.com/riot-developer-portal/seed-data/matches' + str(number) + '.json'\n",
        "    response = requests.get(url)\n",
        "    response.encoding = 'latin1'\n",
        "    games = response.json()\n",
        "    \n",
        "    #Cleanes all games by removing unnecessary details\n",
        "    for i in range(len(games['matches'])):\n",
        "        del games['matches'][i]['mapId']\n",
        "        del games['matches'][i]['gameMode']\n",
        "        del games['matches'][i]['queueId']\n",
        "        del games['matches'][i]['gameVersion']\n",
        "        del games['matches'][i]['gameCreation']\n",
        "        del games['matches'][i]['gameDuration']\n",
        "        del games['matches'][i]['seasonId']\n",
        "        \n",
        "        for y in range(10):\n",
        "            del games['matches'][i]['participants'][y]['timeline']\n",
        "            del games['matches'][i]['participantIdentities'][y]['player']['profileIcon']\n",
        "            del games['matches'][i]['participantIdentities'][y]['player']['platformId']\n",
        "            del games['matches'][i]['participantIdentities'][y]['player']['matchHistoryUri']\n",
        "            del games['matches'][i]['participantIdentities'][y]['player']['currentPlatformId']\n",
        "    \n",
        "    return games"
      ],
      "cell_type": "code",
      "execution_count": 0,
      "outputs": []
    },
    {
      "metadata": {
        "id": "qZc5H3eyEQoj",
        "colab_type": "code",
        "colab": {
          "autoexec": {
            "startup": false,
            "wait_interval": 0
          }
        }
      },
      "source": [
        "data = []\n",
        "matchIds = []\n",
        "playerNames = []\n",
        "championPlayed = []\n",
        "outcome = []\n",
        "deaths = []\n",
        "kills = []\n",
        "wardsPlaced = []\n",
        "wardsKilled = []\n",
        "playerTier = []\n",
        "teamDragons = []\n",
        "teamBarons = []\n",
        "minionsKilled = []"
      ],
      "cell_type": "code",
      "execution_count": 0,
      "outputs": []
    },
    {
      "metadata": {
        "id": "yRlXoPgqEWfb",
        "colab_type": "code",
        "colab": {
          "autoexec": {
            "startup": false,
            "wait_interval": 0
          }
        }
      },
      "source": [
        "for i in range(1,10):\n",
        "    matches = downloadGame(i)\n",
        "    \n",
        "    for x in range(100):\n",
        "    \n",
        "    #Above loop goes through every match, bottom loop goes through each player, respectively\n",
        "        for y in range(10):\n",
        "            playerNames.append(matches['matches'][x]['participantIdentities'][y]['player']['summonerName'])\n",
        "            \n",
        "            \n",
        "            championPlayed.append(matches['matches'][x]['participants'][y]['championId'])\n",
        "            \n",
        "            playerTier.append(matches['matches'][x]['participants'][y]['highestAchievedSeasonTier'])\n",
        "            deaths.append(matches['matches'][x]['participants'][y]['stats']['deaths'])\n",
        "            wardsPlaced.append(matches['matches'][x]['participants'][y]['stats']['wardsPlaced'])\n",
        "            wardsKilled.append(matches['matches'][x]['participants'][y]['stats']['wardsKilled'])\n",
        "            kills.append(matches['matches'][x]['participants'][y]['stats']['kills'])\n",
        "            matchIds.append(matches['matches'][x]['gameId'])\n",
        "            minionsKilled.append(matches['matches'][x]['participants'][y]['stats']['totalMinionsKilled'])\n",
        "            \n",
        "            #Find out if the player won/lost and append it to the array\n",
        "            winner = matches['matches'][x]['participants'][y]['stats']['win']\n",
        "            if winner == True:\n",
        "                outcome.append(\"Win\")\n",
        "            else:\n",
        "                outcome.append(\"Loss\")\n",
        "            \n",
        "            #Find out which team the player was on, and how many barons/dragons the team got    \n",
        "            playerTeam = matches['matches'][x]['participants'][y]['teamId']\n",
        "            if playerTeam == 100:\n",
        "                playerTeam = 0\n",
        "            else:\n",
        "                playerTeam = 1\n",
        "            teamDragons.append(matches['matches'][x]['teams'][playerTeam]['dragonKills'])\n",
        "            teamBarons.append(matches['matches'][x]['teams'][playerTeam]['baronKills'])"
      ],
      "cell_type": "code",
      "execution_count": 0,
      "outputs": []
    },
    {
      "metadata": {
        "id": "g95Qt5hpEzbJ",
        "colab_type": "code",
        "colab": {
          "autoexec": {
            "startup": false,
            "wait_interval": 0
          }
        }
      },
      "source": [
        "workbook = xlsxwriter.Workbook('largeData.xlsx')\n",
        "worksheet = workbook.add_worksheet()"
      ],
      "cell_type": "code",
      "execution_count": 0,
      "outputs": []
    },
    {
      "metadata": {
        "id": "L5AhPNWCFHOn",
        "colab_type": "code",
        "colab": {
          "autoexec": {
            "startup": false,
            "wait_interval": 0
          },
          "output_extras": [
            {
              "item_id": 1
            }
          ],
          "base_uri": "https://localhost:8080/",
          "height": 34
        },
        "outputId": "6af42ce1-03c3-4a2a-d3fa-d0556c52fafa",
        "executionInfo": {
          "status": "ok",
          "timestamp": 1509985220493,
          "user_tz": 360,
          "elapsed": 218,
          "user": {
            "displayName": "Zach Bush",
            "photoUrl": "//lh4.googleusercontent.com/-T331DJ613pQ/AAAAAAAAAAI/AAAAAAAACgo/ayjFye-cEtA/s50-c-k-no/photo.jpg",
            "userId": "106279172720746439343"
          }
        }
      },
      "source": [
        "worksheet.write('A1', 'Game Id')\n",
        "worksheet.write('B1', 'Player Name')\n",
        "worksheet.write('C1', 'Champion Played')\n",
        "worksheet.write('D1', 'Outcome')\n",
        "worksheet.write('E1', 'Deaths')\n",
        "worksheet.write('F1', 'Kills')\n",
        "worksheet.write('G1', 'Wards Killed')\n",
        "worksheet.write('H1', 'Wards Placed')\n",
        "worksheet.write('I1', 'Player Tier')\n",
        "worksheet.write('J1', 'Team Dragons')\n",
        "worksheet.write('K1', 'Team Barons')\n",
        "worksheet.write('L1', 'Minions Killed')"
      ],
      "cell_type": "code",
      "execution_count": 30,
      "outputs": [
        {
          "output_type": "execute_result",
          "data": {
            "text/plain": [
              "0"
            ]
          },
          "metadata": {
            "tags": []
          },
          "execution_count": 30
        }
      ]
    },
    {
      "metadata": {
        "id": "36-78PUqFW6O",
        "colab_type": "code",
        "colab": {
          "autoexec": {
            "startup": false,
            "wait_interval": 0
          }
        }
      },
      "source": [
        "data.append(matchIds)\n",
        "data.append(playerNames)\n",
        "data.append(championPlayed)\n",
        "data.append(outcome)\n",
        "data.append(deaths)\n",
        "data.append(kills)\n",
        "data.append(wardsKilled)\n",
        "data.append(wardsPlaced)\n",
        "data.append(playerTier)\n",
        "data.append(teamDragons)\n",
        "data.append(teamBarons)\n",
        "data.append(minionsKilled)"
      ],
      "cell_type": "code",
      "execution_count": 0,
      "outputs": []
    },
    {
      "metadata": {
        "id": "1cFPeamuFanP",
        "colab_type": "code",
        "colab": {
          "autoexec": {
            "startup": false,
            "wait_interval": 0
          },
          "output_extras": [
            {
              "item_id": 1
            }
          ],
          "base_uri": "https://localhost:8080/",
          "height": 34
        },
        "outputId": "3f3f1422-194d-4e0d-efd4-73785679bfa5",
        "executionInfo": {
          "status": "ok",
          "timestamp": 1509985221984,
          "user_tz": 360,
          "elapsed": 957,
          "user": {
            "displayName": "Zach Bush",
            "photoUrl": "//lh4.googleusercontent.com/-T331DJ613pQ/AAAAAAAAAAI/AAAAAAAACgo/ayjFye-cEtA/s50-c-k-no/photo.jpg",
            "userId": "106279172720746439343"
          }
        }
      },
      "source": [
        "worksheet.write_column('A2', data[0])\n",
        "worksheet.write_column('B2', data[1])\n",
        "worksheet.write_column('C2', data[2])\n",
        "worksheet.write_column('D2', data[3])\n",
        "worksheet.write_column('E2', data[4])\n",
        "worksheet.write_column('F2', data[5])\n",
        "worksheet.write_column('G2', data[6])\n",
        "worksheet.write_column('H2', data[7])\n",
        "worksheet.write_column('I2', data[8])\n",
        "worksheet.write_column('J2', data[9])\n",
        "worksheet.write_column('K2', data[10])\n",
        "worksheet.write_column('L2', data[11])"
      ],
      "cell_type": "code",
      "execution_count": 32,
      "outputs": [
        {
          "output_type": "execute_result",
          "data": {
            "text/plain": [
              "0"
            ]
          },
          "metadata": {
            "tags": []
          },
          "execution_count": 32
        }
      ]
    },
    {
      "metadata": {
        "id": "jZ5DvWQPFcu2",
        "colab_type": "code",
        "colab": {
          "autoexec": {
            "startup": false,
            "wait_interval": 0
          }
        }
      },
      "source": [
        "workbook.close()\n"
      ],
      "cell_type": "code",
      "execution_count": 0,
      "outputs": []
    },
    {
      "metadata": {
        "id": "xvvfD4cnHNHY",
        "colab_type": "code",
        "colab": {
          "autoexec": {
            "startup": false,
            "wait_interval": 0
          }
        }
      },
      "source": [
        "file_metadata = {\n",
        "  'name': 'Large League of legends Data',\n",
        "  'mimeType': 'text/plain'\n",
        "}"
      ],
      "cell_type": "code",
      "execution_count": 0,
      "outputs": []
    },
    {
      "metadata": {
        "id": "BI_8bx72HxRl",
        "colab_type": "code",
        "colab": {
          "autoexec": {
            "startup": false,
            "wait_interval": 0
          },
          "output_extras": [
            {
              "item_id": 1
            }
          ],
          "base_uri": "https://localhost:8080/",
          "height": 34
        },
        "outputId": "1497396f-e378-485b-8e45-f79c433d2bc8",
        "executionInfo": {
          "status": "ok",
          "timestamp": 1509985224365,
          "user_tz": 360,
          "elapsed": 991,
          "user": {
            "displayName": "Zach Bush",
            "photoUrl": "//lh4.googleusercontent.com/-T331DJ613pQ/AAAAAAAAAAI/AAAAAAAACgo/ayjFye-cEtA/s50-c-k-no/photo.jpg",
            "userId": "106279172720746439343"
          }
        }
      },
      "source": [
        "media = MediaFileUpload('largeData.xlsx', \n",
        "                        mimetype='application/vnd.ms-excel',\n",
        "                        resumable=True)\n",
        "created = drive_service.files().create(body=file_metadata,\n",
        "                                       media_body=media,\n",
        "                                       fields='id').execute()\n",
        "print 'File ID: %s' % created.get('id')"
      ],
      "cell_type": "code",
      "execution_count": 35,
      "outputs": [
        {
          "output_type": "stream",
          "text": [
            "File ID: 1pvgSQdIOWu1H9lMfnZ1cpTaUmn91AKER\n"
          ],
          "name": "stdout"
        }
      ]
    }
  ]
}